{
 "nbformat": 4,
 "nbformat_minor": 2,
 "metadata": {
  "language_info": {
   "name": "python",
   "codemirror_mode": {
    "name": "ipython",
    "version": 3
   },
   "version": "3.6.8-final"
  },
  "orig_nbformat": 2,
  "file_extension": ".py",
  "mimetype": "text/x-python",
  "name": "python",
  "npconvert_exporter": "python",
  "pygments_lexer": "ipython3",
  "version": 3,
  "kernelspec": {
   "name": "python36864bitbaseconda3c8c4befa5d64e71960224b7c18a773b",
   "display_name": "Python 3.6.8 64-bit ('base': conda)"
  }
 },
 "cells": [
  {
   "cell_type": "code",
   "execution_count": 38,
   "metadata": {},
   "outputs": [],
   "source": [
    "import numpy as np\n",
    "import matplotlib.pyplot as plt"
   ]
  },
  {
   "cell_type": "code",
   "execution_count": 11,
   "metadata": {},
   "outputs": [],
   "source": [
    "def Calculate1DField(ey, hz):\n",
    "    if len(ey) != len(hz):\n",
    "        return None\n",
    "    for i in range(len(ey)-1):\n",
    "        ey[i+1] += (hz[i] - hz[i+1]) / Z0\n",
    "    for i in range(len(hz)-1):\n",
    "        hz[i] += (ey[i] - ey[i+1]) * Z0"
   ]
  },
  {
   "cell_type": "code",
   "execution_count": 270,
   "metadata": {},
   "outputs": [
    {
     "output_type": "stream",
     "name": "stdout",
     "text": "[-1.  1.  0.  0.  0.  0.  0.  0.  0.  0.]\n[ 0. -1.  1.  0.  0.  0.  0.  0.  0.  0.]\n[ 0.  0. -1.  1.  0.  0.  0.  0.  0.  0.]\n[ 0.  0.  0. -1.  1.  0.  0.  0.  0.  0.]\n[ 0.  0.  0.  0. -1.  1.  0.  0.  0.  0.]\n[ 0.  0.  0.  0.  0. -1.  1.  0.  0.  0.]\n[ 0.  0.  0.  0.  0.  0. -1.  1.  0.  0.]\n[ 0.  0.  0.  0.  0.  0.  0. -1.  1.  0.]\n[ 0.  0.  0.  0.  0.  0.  0.  0. -1.  0.]\n[ 0.  0.  0.  0.  0.  0.  0.  0. -1.  0.]\n[ 0.  0.  0.  0.  0.  0.  0. -1.  1.  0.]\n[ 0.  0.  0.  0.  0.  0. -1.  1.  0.  0.]\n[ 0.  0.  0.  0.  0. -1.  1.  0.  0.  0.]\n[ 0.  0.  0.  0. -1.  1.  0.  0.  0.  0.]\n[ 0.  0.  0. -1.  1.  0.  0.  0.  0.  0.]\n[ 0.  0. -1.  1.  0.  0.  0.  0.  0.  0.]\n[ 0. -1.  1.  0.  0.  0.  0.  0.  0.  0.]\n[-1.  1.  0.  0.  0.  0.  0.  0.  0.  0.]\n[0. 0. 0. 0. 0. 0. 0. 0. 0. 0.]\n[ 1. -1.  0.  0.  0.  0.  0.  0.  0.  0.]\n[ 0.  1. -1.  0.  0.  0.  0.  0.  0.  0.]\n[ 0.  0.  1. -1.  0.  0.  0.  0.  0.  0.]\n[ 0.  0.  0.  1. -1.  0.  0.  0.  0.  0.]\n[ 0.  0.  0.  0.  1. -1.  0.  0.  0.  0.]\n[ 0.  0.  0.  0.  0.  1. -1.  0.  0.  0.]\n[ 0.  0.  0.  0.  0.  0.  1. -1.  0.  0.]\n[ 0.  0.  0.  0.  0.  0.  0.  1. -1.  0.]\n[0. 0. 0. 0. 0. 0. 0. 0. 1. 0.]\n[0. 0. 0. 0. 0. 0. 0. 0. 1. 0.]\n[ 0.  0.  0.  0.  0.  0.  0.  1. -1.  0.]\n[ 0.  0.  0.  0.  0.  0.  1. -1.  0.  0.]\n[ 0.  0.  0.  0.  0.  1. -1.  0.  0.  0.]\n[ 0.  0.  0.  0.  1. -1.  0.  0.  0.  0.]\n[ 0.  0.  0.  1. -1.  0.  0.  0.  0.  0.]\n[ 0.  0.  1. -1.  0.  0.  0.  0.  0.  0.]\n[ 0.  1. -1.  0.  0.  0.  0.  0.  0.  0.]\n[ 1. -1.  0.  0.  0.  0.  0.  0.  0.  0.]\n[0. 0. 0. 0. 0. 0. 0. 0. 0. 0.]\n[-1.  1.  0.  0.  0.  0.  0.  0.  0.  0.]\n[ 0. -1.  1.  0.  0.  0.  0.  0.  0.  0.]\n[ 0.  0. -1.  1.  0.  0.  0.  0.  0.  0.]\n[ 0.  0.  0. -1.  1.  0.  0.  0.  0.  0.]\n[ 0.  0.  0.  0. -1.  1.  0.  0.  0.  0.]\n[ 0.  0.  0.  0.  0. -1.  1.  0.  0.  0.]\n[ 0.  0.  0.  0.  0.  0. -1.  1.  0.  0.]\n[ 0.  0.  0.  0.  0.  0.  0. -1.  1.  0.]\n[ 0.  0.  0.  0.  0.  0.  0.  0. -1.  0.]\n[ 0.  0.  0.  0.  0.  0.  0.  0. -1.  0.]\n[ 0.  0.  0.  0.  0.  0.  0. -1.  1.  0.]\n[ 0.  0.  0.  0.  0.  0. -1.  1.  0.  0.]\n"
    }
   ],
   "source": [
    "Z0 = 1 #377 # сопротивление среды 120pi\n",
    "\n",
    "N = 10 # число точек\n",
    "\n",
    "Ey = np.zeros(N)\n",
    "Hz = np.zeros(N)\n",
    "\n",
    "step_count = 50 # шаг по времени, количество отсчётов dt\n",
    "Ey[1] = 1\n",
    "\n",
    "for i in range(step_count):\n",
    "    CalculateField(Ey, Hz)\n",
    "    print(Hz)"
   ]
  },
  {
   "cell_type": "code",
   "execution_count": 294,
   "metadata": {},
   "outputs": [],
   "source": [
    "def Calculate2DField(e, h):\n",
    "    nx = len(e[0])\n",
    "    ny = len(e[0][0])\n",
    "    (Ex, Ey, Ez) = e\n",
    "    (Hx, Hy, Hz) = h    \n",
    "    for i in range(nx - 1):\n",
    "        for j in range(ny - 1):\n",
    "            Ex[i+1][j+1] +=  (Hz[i][j+1] - Hz[i][j]) / Z0\n",
    "            Ey[i+1][j+1] += -(Hz[i+1][j] - Hz[i][j]) / Z0\n",
    "            Ez[i+1][j+1] += ((Hy[i+1][j] - Hy[i][j]) - (Hx[i][j+1] - Hx[i][j])) / Z0\n",
    "    for i in range(nx - 1):\n",
    "        for j in range(ny - 1):\n",
    "            Hx[i]  [j]   -=  (Ez[i][j+1] - Ez[i][j]) * Z0\n",
    "            Hy[i]  [j]   -= -(Ez[i+1][j] - Ez[i][j]) * Z0\n",
    "            Hz[i]  [j]   -= ((Ey[i+1][j] - Ey[i][j]) - (Ex[i][j+1] - Ex[i][j])) * Z0\n",
    "    \n",
    "\n",
    "# Ex[10][10] = 1\n",
    "\n",
    "# step_count = 3\n",
    "\n",
    "# for i in range(step_count):\n",
    "#     Calculate2DField(E,H)\n",
    "\n",
    "# print(Ex)"
   ]
  },
  {
   "cell_type": "code",
   "execution_count": 298,
   "metadata": {},
   "outputs": [
    {
     "output_type": "stream",
     "name": "stdout",
     "text": "Ex\n[[ 0.  0.  0.  0.  0.]\n [ 0. -1.  0.  0.  1.]\n [ 0.  1.  0.  0. -1.]\n [ 0.  0.  0.  0.  0.]\n [ 0.  0.  0.  0.  0.]]\nEy\n[[ 0.  0.  0.  0.  0.]\n [ 0.  1. -1. -1. -1.]\n [ 0.  0.  1.  1.  1.]\n [ 0.  0.  0.  0.  0.]\n [ 0.  0.  0.  0.  0.]]\nHz\n[[ 0. -1. -1. -1.  0.]\n [ 0.  1.  1.  1.  0.]\n [ 0.  0.  0.  0.  0.]\n [ 0.  0.  0.  0.  0.]\n [ 0.  0.  0.  0.  0.]]\n"
    }
   ],
   "source": [
    "Nx = 5\n",
    "Ny = 5\n",
    "\n",
    "Ex = np.zeros((Nx,Ny))\n",
    "Ey = np.zeros((Nx,Ny))\n",
    "Ez = np.zeros((Nx,Ny))\n",
    "\n",
    "Hx = np.zeros((Nx,Ny))\n",
    "Hy = np.zeros((Nx,Ny))\n",
    "Hz = np.zeros((Nx,Ny))\n",
    "\n",
    "E = (Ex, Ey, Ez)\n",
    "H = (Hx, Hy, Hz)\n",
    "\n",
    "for i in range(Nx-1):\n",
    "    Ey[1][i+1] = 1\n",
    "step_count = 1\n",
    "\n",
    "for i in range(step_count):\n",
    "    Calculate2DField(E,H)\n",
    "\n",
    "print(\"Ex\")\n",
    "print(Ex)\n",
    "print(\"Ey\")\n",
    "print(Ey)\n",
    "\n",
    "print(\"Hz\")\n",
    "print(Hz)\n",
    "\n",
    "# fig, ax = plt.subplots()\n",
    "# ax.imshow(Ez)\n",
    "# fig.set_figwidth(12)    #  ширина и\n",
    "# fig.set_figheight(12)    #  высота \"Figure\"\n",
    "# plt.show()"
   ]
  },
  {
   "cell_type": "code",
   "execution_count": null,
   "metadata": {},
   "outputs": [],
   "source": []
  }
 ]
}